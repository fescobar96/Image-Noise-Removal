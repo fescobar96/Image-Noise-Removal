{
  "nbformat": 4,
  "nbformat_minor": 0,
  "metadata": {
    "colab": {
      "name": "Data Preprocessing.ipynb",
      "provenance": [],
      "mount_file_id": "https://github.com/fescobar96/Image-Noise-Removal/blob/master/Image%20Noise%20Removal.ipynb",
      "authorship_tag": "ABX9TyMrglPpcJUpO6HfbpG8QTNa"
    },
    "kernelspec": {
      "name": "python3",
      "display_name": "Python 3"
    }
  },
  "cells": [
    {
      "cell_type": "markdown",
      "metadata": {
        "id": "qGY6zsbWUrKQ",
        "colab_type": "text"
      },
      "source": [
        "Import Libraries"
      ]
    },
    {
      "cell_type": "code",
      "metadata": {
        "id": "Q8PLBtjSRUZ4",
        "colab_type": "code",
        "colab": {}
      },
      "source": [
        "import numpy as np\n",
        "import os\n",
        "import tensorflow as tf\n",
        "from tqdm import tqdm\n",
        "import matplotlib.pyplot as plt"
      ],
      "execution_count": 0,
      "outputs": []
    },
    {
      "cell_type": "markdown",
      "metadata": {
        "id": "XYY0CnLrUvxW",
        "colab_type": "text"
      },
      "source": [
        "Import and Preprocess Noisy Frames"
      ]
    },
    {
      "cell_type": "code",
      "metadata": {
        "id": "c2OjmWObVxFO",
        "colab_type": "code",
        "colab": {}
      },
      "source": [
        "bad_frames = '/content/drive/My Drive/Noisy Dataset/RealNoisyOffice/real_noisy_images_grayscale'"
      ],
      "execution_count": 0,
      "outputs": []
    },
    {
      "cell_type": "code",
      "metadata": {
        "id": "9c8qYS1xUoqL",
        "colab_type": "code",
        "outputId": "8f9da86e-5eef-433a-da9e-bae743408029",
        "colab": {
          "base_uri": "https://localhost:8080/",
          "height": 34
        }
      },
      "source": [
        "noisy_frames = []\n",
        "for file in tqdm(sorted(os.listdir(bad_frames))):\n",
        "  if any(extension in file for extension in ['.jpg', 'jpeg', '.png']):\n",
        "    image = tf.keras.preprocessing.image.load_img(bad_images + '/' + file, target_size=(420,540))\n",
        "    image = tf.keras.preprocessing.image.img_to_array(image).astype('float32')/255\n",
        "    noisy_images.append(image)\n",
        "\n",
        "noisy_frames = np.array(noisy_frames)"
      ],
      "execution_count": 3,
      "outputs": [
        {
          "output_type": "stream",
          "text": [
            "100%|██████████| 73/73 [01:33<00:00,  1.28s/it]\n"
          ],
          "name": "stderr"
        }
      ]
    },
    {
      "cell_type": "markdown",
      "metadata": {
        "id": "2K8XJN17YscQ",
        "colab_type": "text"
      },
      "source": [
        "Import and Preprocess Clean Frames"
      ]
    },
    {
      "cell_type": "code",
      "metadata": {
        "id": "5PATkE4zZiJo",
        "colab_type": "code",
        "colab": {}
      },
      "source": [
        "good_frames = '/content/drive/My Drive/Noisy Dataset/SimulatedNoisyOffice/clean_images_grayscale'"
      ],
      "execution_count": 0,
      "outputs": []
    },
    {
      "cell_type": "code",
      "metadata": {
        "id": "Xe-vNJNLZn6s",
        "colab_type": "code",
        "colab": {}
      },
      "source": [
        "clean_frames = []\n",
        "for file in tqdm(sorted(os.listdir(good_frames))):\n",
        "  if any(extension in file for extension in ['.jpg', 'jpeg', '.png']):\n",
        "    image = tf.keras.preprocessing.image.load_img(bad_images + '/' + file, target_size=(420,540))\n",
        "    image = tf.keras.preprocessing.image.img_to_array(image).astype('float32')/255\n",
        "    clean_images.append(image)\n",
        "\n",
        "clean_frames = np.array(clean_frames)"
      ],
      "execution_count": 0,
      "outputs": []
    },
    {
      "cell_type": "code",
      "metadata": {
        "id": "b_037jPvYDpg",
        "colab_type": "code",
        "colab": {
          "base_uri": "https://localhost:8080/",
          "height": 163
        },
        "outputId": "107a3415-a0b9-407e-8fab-5fa004619423"
      },
      "source": [
        "plt.show(noisy_frames[0])"
      ],
      "execution_count": 6,
      "outputs": [
        {
          "output_type": "error",
          "ename": "NameError",
          "evalue": "ignored",
          "traceback": [
            "\u001b[0;31m---------------------------------------------------------------------------\u001b[0m",
            "\u001b[0;31mNameError\u001b[0m                                 Traceback (most recent call last)",
            "\u001b[0;32m<ipython-input-6-1a277d8a1db9>\u001b[0m in \u001b[0;36m<module>\u001b[0;34m()\u001b[0m\n\u001b[0;32m----> 1\u001b[0;31m \u001b[0mplt\u001b[0m\u001b[0;34m.\u001b[0m\u001b[0mshow\u001b[0m\u001b[0;34m(\u001b[0m\u001b[0mnoisy_frames\u001b[0m\u001b[0;34m[\u001b[0m\u001b[0;36m0\u001b[0m\u001b[0;34m]\u001b[0m\u001b[0;34m)\u001b[0m\u001b[0;34m\u001b[0m\u001b[0;34m\u001b[0m\u001b[0m\n\u001b[0m",
            "\u001b[0;31mNameError\u001b[0m: name 'noisy_frames' is not defined"
          ]
        }
      ]
    }
  ]
}