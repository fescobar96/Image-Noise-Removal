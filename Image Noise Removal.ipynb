{
  "nbformat": 4,
  "nbformat_minor": 0,
  "metadata": {
    "colab": {
      "name": "Data Preprocessing.ipynb",
      "provenance": [],
      "mount_file_id": "https://github.com/fescobar96/Image-Noise-Removal/blob/master/Image%20Noise%20Removal.ipynb",
      "authorship_tag": "ABX9TyMeF6QZacARyMnguY5Fsf0D"
    },
    "kernelspec": {
      "name": "python3",
      "display_name": "Python 3"
    }
  },
  "cells": [
    {
      "cell_type": "markdown",
      "metadata": {
        "id": "qGY6zsbWUrKQ",
        "colab_type": "text"
      },
      "source": [
        "Import Libraries"
      ]
    },
    {
      "cell_type": "code",
      "metadata": {
        "id": "Q8PLBtjSRUZ4",
        "colab_type": "code",
        "colab": {}
      },
      "source": [
        "import numpy as np\n",
        "import os\n",
        "import tensorflow as tf\n",
        "from tqdm import tqdm\n",
        "import matplotlib.pyplot as plt"
      ],
      "execution_count": 0,
      "outputs": []
    },
    {
      "cell_type": "markdown",
      "metadata": {
        "id": "XYY0CnLrUvxW",
        "colab_type": "text"
      },
      "source": [
        "Import and Preprocess Noisy Frames"
      ]
    },
    {
      "cell_type": "code",
      "metadata": {
        "id": "c2OjmWObVxFO",
        "colab_type": "code",
        "colab": {}
      },
      "source": [
        "bad_frames = '/content/drive/My Drive/Noisy Dataset/RealNoisyOffice/real_noisy_images_grayscale_doubleresolution'"
      ],
      "execution_count": 0,
      "outputs": []
    },
    {
      "cell_type": "code",
      "metadata": {
        "id": "9c8qYS1xUoqL",
        "colab_type": "code",
        "outputId": "2035f889-40f9-4327-c4ce-0a4473be3448",
        "colab": {
          "base_uri": "https://localhost:8080/",
          "height": 1000
        }
      },
      "source": [
        "noisy_frames = []\n",
        "for file in tqdm(sorted(os.listdir(bad_frames))):\n",
        "  if any(extension in file for extension in ['.jpg', 'jpeg', '.png']):\n",
        "    image = tf.keras.preprocessing.image.load_img(bad_frames + '/' + file, target_size=(420,540))\n",
        "    image = tf.keras.preprocessing.image.img_to_array(image).astype('float32')/255\n",
        "    noisy_frames.append(image)\n",
        "\n",
        "noisy_frames = np.array(noisy_frames)"
      ],
      "execution_count": 26,
      "outputs": [
        {
          "output_type": "stream",
          "text": [
            "\n",
            "\n",
            "  0%|          | 0/72 [00:00<?, ?it/s]\u001b[A\u001b[A\n",
            "\n",
            "  1%|▏         | 1/72 [00:00<00:18,  3.87it/s]\u001b[A\u001b[A\n",
            "\n",
            "  3%|▎         | 2/72 [00:00<00:18,  3.86it/s]\u001b[A\u001b[A\n",
            "\n",
            "  4%|▍         | 3/72 [00:00<00:17,  3.84it/s]\u001b[A\u001b[A\n",
            "\n",
            "  6%|▌         | 4/72 [00:01<00:17,  3.90it/s]\u001b[A\u001b[A\n",
            "\n",
            "  7%|▋         | 5/72 [00:01<00:17,  3.94it/s]\u001b[A\u001b[A\n",
            "\n",
            "  8%|▊         | 6/72 [00:01<00:16,  3.99it/s]\u001b[A\u001b[A\n",
            "\n",
            " 10%|▉         | 7/72 [00:01<00:16,  3.99it/s]\u001b[A\u001b[A\n",
            "\n",
            " 11%|█         | 8/72 [00:02<00:16,  3.93it/s]\u001b[A\u001b[A\n",
            "\n",
            " 12%|█▎        | 9/72 [00:02<00:15,  4.02it/s]\u001b[A\u001b[A\n",
            "\n",
            " 14%|█▍        | 10/72 [00:02<00:15,  4.05it/s]\u001b[A\u001b[A\n",
            "\n",
            " 15%|█▌        | 11/72 [00:02<00:14,  4.07it/s]\u001b[A\u001b[A\n",
            "\n",
            " 17%|█▋        | 12/72 [00:03<00:14,  4.07it/s]\u001b[A\u001b[A\n",
            "\n",
            " 18%|█▊        | 13/72 [00:03<00:14,  4.08it/s]\u001b[A\u001b[A\n",
            "\n",
            " 19%|█▉        | 14/72 [00:03<00:14,  4.06it/s]\u001b[A\u001b[A\n",
            "\n",
            " 21%|██        | 15/72 [00:03<00:14,  3.97it/s]\u001b[A\u001b[A\n",
            "\n",
            " 22%|██▏       | 16/72 [00:04<00:14,  3.98it/s]\u001b[A\u001b[A\n",
            "\n",
            " 24%|██▎       | 17/72 [00:04<00:14,  3.72it/s]\u001b[A\u001b[A\n",
            "\n",
            " 25%|██▌       | 18/72 [00:04<00:15,  3.55it/s]\u001b[A\u001b[A\n",
            "\n",
            " 26%|██▋       | 19/72 [00:04<00:15,  3.42it/s]\u001b[A\u001b[A\n",
            "\n",
            " 28%|██▊       | 20/72 [00:05<00:15,  3.28it/s]\u001b[A\u001b[A\n",
            "\n",
            " 29%|██▉       | 21/72 [00:05<00:15,  3.33it/s]\u001b[A\u001b[A\n",
            "\n",
            " 31%|███       | 22/72 [00:05<00:15,  3.30it/s]\u001b[A\u001b[A\n",
            "\n",
            " 32%|███▏      | 23/72 [00:06<00:14,  3.35it/s]\u001b[A\u001b[A\n",
            "\n",
            " 33%|███▎      | 24/72 [00:06<00:14,  3.33it/s]\u001b[A\u001b[A\n",
            "\n",
            " 35%|███▍      | 25/72 [00:06<00:11,  4.07it/s]\u001b[A\u001b[A\n",
            "\n",
            " 36%|███▌      | 26/72 [00:06<00:10,  4.54it/s]\u001b[A\u001b[A\n",
            "\n",
            " 38%|███▊      | 27/72 [00:06<00:08,  5.26it/s]\u001b[A\u001b[A\n",
            "\n",
            " 39%|███▉      | 28/72 [00:06<00:07,  6.03it/s]\u001b[A\u001b[A\n",
            "\n",
            " 40%|████      | 29/72 [00:07<00:06,  6.60it/s]\u001b[A\u001b[A\n",
            "\n",
            " 42%|████▏     | 30/72 [00:07<00:06,  6.52it/s]\u001b[A\u001b[A\n",
            "\n",
            " 43%|████▎     | 31/72 [00:07<00:05,  6.98it/s]\u001b[A\u001b[A\n",
            "\n",
            " 44%|████▍     | 32/72 [00:07<00:05,  7.53it/s]\u001b[A\u001b[A\n",
            "\n",
            " 46%|████▌     | 33/72 [00:07<00:04,  7.85it/s]\u001b[A\u001b[A\n",
            "\n",
            " 47%|████▋     | 34/72 [00:07<00:05,  7.25it/s]\u001b[A\u001b[A\n",
            "\n",
            " 49%|████▊     | 35/72 [00:07<00:04,  7.67it/s]\u001b[A\u001b[A\n",
            "\n",
            " 50%|█████     | 36/72 [00:07<00:04,  8.01it/s]\u001b[A\u001b[A\n",
            "\n",
            " 51%|█████▏    | 37/72 [00:08<00:04,  8.25it/s]\u001b[A\u001b[A\n",
            "\n",
            " 53%|█████▎    | 38/72 [00:08<00:04,  7.78it/s]\u001b[A\u001b[A\n",
            "\n",
            " 54%|█████▍    | 39/72 [00:08<00:04,  8.09it/s]\u001b[A\u001b[A\n",
            "\n",
            " 56%|█████▌    | 40/72 [00:08<00:03,  8.20it/s]\u001b[A\u001b[A\n",
            "\n",
            " 57%|█████▋    | 41/72 [00:08<00:03,  7.78it/s]\u001b[A\u001b[A\n",
            "\n",
            " 58%|█████▊    | 42/72 [00:08<00:04,  6.58it/s]\u001b[A\u001b[A\n",
            "\n",
            " 60%|█████▉    | 43/72 [00:08<00:04,  6.83it/s]\u001b[A\u001b[A\n",
            "\n",
            " 61%|██████    | 44/72 [00:09<00:04,  6.97it/s]\u001b[A\u001b[A\n",
            "\n",
            " 62%|██████▎   | 45/72 [00:09<00:03,  7.12it/s]\u001b[A\u001b[A\n",
            "\n",
            " 64%|██████▍   | 46/72 [00:10<00:08,  2.95it/s]\u001b[A\u001b[A\n",
            "\n",
            " 65%|██████▌   | 47/72 [00:11<00:15,  1.60it/s]\u001b[A\u001b[A\n",
            "\n",
            " 67%|██████▋   | 48/72 [00:13<00:23,  1.03it/s]\u001b[A\u001b[A\n",
            "\n",
            " 68%|██████▊   | 49/72 [00:16<00:36,  1.57s/it]\u001b[A\u001b[A\n",
            "\n",
            " 69%|██████▉   | 50/72 [00:17<00:31,  1.42s/it]\u001b[A\u001b[A\n",
            "\n",
            " 71%|███████   | 51/72 [00:19<00:35,  1.71s/it]\u001b[A\u001b[A\n",
            "\n",
            " 72%|███████▏  | 52/72 [00:21<00:34,  1.72s/it]\u001b[A\u001b[A\n",
            "\n",
            " 74%|███████▎  | 53/72 [00:23<00:34,  1.82s/it]\u001b[A\u001b[A\n",
            "\n",
            " 75%|███████▌  | 54/72 [00:26<00:37,  2.09s/it]\u001b[A\u001b[A\n",
            "\n",
            " 76%|███████▋  | 55/72 [00:27<00:32,  1.89s/it]\u001b[A\u001b[A\n",
            "\n",
            " 78%|███████▊  | 56/72 [00:29<00:33,  2.08s/it]\u001b[A\u001b[A\n",
            "\n",
            " 79%|███████▉  | 57/72 [00:31<00:26,  1.80s/it]\u001b[A\u001b[A\n",
            "\n",
            " 81%|████████  | 58/72 [00:32<00:24,  1.75s/it]\u001b[A\u001b[A\n",
            "\n",
            " 82%|████████▏ | 59/72 [00:33<00:20,  1.58s/it]\u001b[A\u001b[A\n",
            "\n",
            " 83%|████████▎ | 60/72 [00:35<00:18,  1.55s/it]\u001b[A\u001b[A\n",
            "\n",
            " 85%|████████▍ | 61/72 [00:37<00:19,  1.80s/it]\u001b[A\u001b[A\n",
            "\n",
            " 86%|████████▌ | 62/72 [00:39<00:16,  1.63s/it]\u001b[A\u001b[A\n",
            "\n",
            " 88%|████████▊ | 63/72 [00:40<00:13,  1.52s/it]\u001b[A\u001b[A\n",
            "\n",
            " 89%|████████▉ | 64/72 [00:41<00:11,  1.42s/it]\u001b[A\u001b[A\n",
            "\n",
            " 90%|█████████ | 65/72 [00:43<00:11,  1.69s/it]\u001b[A\u001b[A\n",
            "\n",
            " 92%|█████████▏| 66/72 [00:45<00:09,  1.60s/it]\u001b[A\u001b[A\n",
            "\n",
            " 93%|█████████▎| 67/72 [00:46<00:07,  1.50s/it]\u001b[A\u001b[A\n",
            "\n",
            " 94%|█████████▍| 68/72 [00:48<00:06,  1.61s/it]\u001b[A\u001b[A\n",
            "\n",
            " 96%|█████████▌| 69/72 [00:49<00:04,  1.59s/it]\u001b[A\u001b[A\n",
            "\n",
            " 97%|█████████▋| 70/72 [00:51<00:02,  1.45s/it]\u001b[A\u001b[A\n",
            "\n",
            " 99%|█████████▊| 71/72 [00:52<00:01,  1.42s/it]\u001b[A\u001b[A\n",
            "\n",
            "100%|██████████| 72/72 [00:53<00:00,  1.34it/s]\n"
          ],
          "name": "stderr"
        }
      ]
    },
    {
      "cell_type": "code",
      "metadata": {
        "id": "lS0IYbbE_cAF",
        "colab_type": "code",
        "colab": {
          "base_uri": "https://localhost:8080/",
          "height": 34
        },
        "outputId": "114854a2-1d2d-4a87-c2e0-84d51155ed9f"
      },
      "source": [
        "noisy_frames.shape"
      ],
      "execution_count": 27,
      "outputs": [
        {
          "output_type": "execute_result",
          "data": {
            "text/plain": [
              "(72, 420, 540, 3)"
            ]
          },
          "metadata": {
            "tags": []
          },
          "execution_count": 27
        }
      ]
    },
    {
      "cell_type": "markdown",
      "metadata": {
        "id": "2K8XJN17YscQ",
        "colab_type": "text"
      },
      "source": [
        "Import and Preprocess Clean Frames"
      ]
    },
    {
      "cell_type": "code",
      "metadata": {
        "id": "5PATkE4zZiJo",
        "colab_type": "code",
        "colab": {}
      },
      "source": [
        "good_frames = '/content/drive/My Drive/Noisy Dataset/SimulatedNoisyOffice/clean_images_grayscale'"
      ],
      "execution_count": 0,
      "outputs": []
    },
    {
      "cell_type": "code",
      "metadata": {
        "id": "Xe-vNJNLZn6s",
        "colab_type": "code",
        "colab": {
          "base_uri": "https://localhost:8080/",
          "height": 136
        },
        "outputId": "9510fe2f-52ee-4d1f-ab91-ad6bb41ca13e"
      },
      "source": [
        "clean_frames = []\n",
        "for file in tqdm(sorted(os.listdir(good_frames))):\n",
        "  if any(extension in file for extension in ['.jpg', 'jpeg', '.png']):\n",
        "    image = tf.keras.preprocessing.image.load_img(good_frames + '/' + file, target_size=(420,540))\n",
        "    image = tf.keras.preprocessing.image.img_to_array(image).astype('float32')/255\n",
        "    clean_frames.append(image)\n",
        "\n",
        "clean_frames = np.array(clean_frames)"
      ],
      "execution_count": 29,
      "outputs": [
        {
          "output_type": "stream",
          "text": [
            "\n",
            "\n",
            "  0%|          | 0/54 [00:00<?, ?it/s]\u001b[A\u001b[A\n",
            "\n",
            " 35%|███▌      | 19/54 [00:00<00:00, 186.86it/s]\u001b[A\u001b[A\n",
            "\n",
            "100%|██████████| 54/54 [00:00<00:00, 184.21it/s]\n"
          ],
          "name": "stderr"
        }
      ]
    },
    {
      "cell_type": "code",
      "metadata": {
        "id": "Hgpin3I1A92G",
        "colab_type": "code",
        "colab": {
          "base_uri": "https://localhost:8080/",
          "height": 34
        },
        "outputId": "2b61dc1f-34a5-456c-b1e3-a8465f2ec7d2"
      },
      "source": [
        "clean_frames.shape"
      ],
      "execution_count": 30,
      "outputs": [
        {
          "output_type": "execute_result",
          "data": {
            "text/plain": [
              "(54, 420, 540, 3)"
            ]
          },
          "metadata": {
            "tags": []
          },
          "execution_count": 30
        }
      ]
    },
    {
      "cell_type": "code",
      "metadata": {
        "id": "3Nh6WOOrBDTa",
        "colab_type": "code",
        "colab": {}
      },
      "source": [
        ""
      ],
      "execution_count": 0,
      "outputs": []
    }
  ]
}